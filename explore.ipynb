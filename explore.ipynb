{
 "cells": [
  {
   "cell_type": "code",
   "execution_count": 4,
   "id": "09938100",
   "metadata": {},
   "outputs": [],
   "source": [
    "with open(\"tomi_balanced_story_types/fb_all_test.txt\", \"r\") as f:\n",
    "    data = f.read().split(\"1\\n\")\n",
    "    \n",
    "with open(\"tomi_balanced_story_types/fb_all_test.trace\", \"r\") as f:\n",
    "    trace = f.read().split(\"\\n\")"
   ]
  },
  {
   "cell_type": "code",
   "execution_count": 49,
   "id": "952af7fd",
   "metadata": {},
   "outputs": [
    {
     "name": "stdout",
     "output_type": "stream",
     "text": [
      "enter_agent_0,enter_agent_1,agent_1_exits,agent_1_reenters_alt_loc,agent_0_moves_obj,agent_2_enters,agent_2_exits,second_order_1_no_tom,true_belief\n",
      "1 Owen entered the basement.\n",
      "2 Olivia entered the basement.\n",
      "3 The melon is in the blue_treasure_chest.\n",
      "4 Carter hates the lime\n",
      "5 Olivia exited the basement.\n",
      "6 Olivia likes the playroom\n",
      "7 Olivia entered the study.\n",
      "8 Carter entered the basement.\n",
      "9 Carter exited the basement.\n",
      "10 Owen moved the melon to the blue_drawer.\n",
      "11 Where does Olivia think that Owen searches for the melon?\tblue_drawer\t\n"
     ]
    }
   ],
   "source": [
    "i = 2351\n",
    "\n",
    "print(trace[i])\n",
    "print(data[i])"
   ]
  },
  {
   "cell_type": "code",
   "execution_count": 33,
   "id": "883f3a9d",
   "metadata": {},
   "outputs": [
    {
     "name": "stdout",
     "output_type": "stream",
     "text": [
      "enter_agent_1,enter_agent_0,agent_1_exits,agent_1_reenters_alt_loc,agent_0_moves_obj,second_order_0_tom,true_belief\n",
      "1 Mia entered the bathroom.\n",
      "2 Oliver entered the bathroom.\n",
      "3 Mia dislikes the sunroom\n",
      "4 The grapes is in the blue_pantry.\n",
      "5 Mia exited the bathroom.\n",
      "6 Mia entered the hall.\n",
      "7 Oliver moved the grapes to the green_bucket.\n",
      "8 Where does Oliver think that Mia searches for the grapes?\tblue_pantry\t\n"
     ]
    }
   ],
   "source": [
    "i = 566\n",
    "\n",
    "print(trace[i])\n",
    "print(data[i])"
   ]
  }
 ],
 "metadata": {
  "kernelspec": {
   "display_name": "base",
   "language": "python",
   "name": "python3"
  },
  "language_info": {
   "codemirror_mode": {
    "name": "ipython",
    "version": 3
   },
   "file_extension": ".py",
   "mimetype": "text/x-python",
   "name": "python",
   "nbconvert_exporter": "python",
   "pygments_lexer": "ipython3",
   "version": "3.12.7"
  }
 },
 "nbformat": 4,
 "nbformat_minor": 5
}
