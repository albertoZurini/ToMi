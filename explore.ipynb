{
 "cells": [
  {
   "cell_type": "code",
   "execution_count": 31,
   "id": "7ccf7a74",
   "metadata": {},
   "outputs": [],
   "source": [
    "import re"
   ]
  },
  {
   "cell_type": "code",
   "execution_count": 1,
   "id": "09938100",
   "metadata": {},
   "outputs": [],
   "source": [
    "with open(\"tomi_balanced_story_types/fb_all_test.txt\", \"r\") as f:\n",
    "    data = f.read().split(\"1\\n\")\n",
    "    \n",
    "with open(\"tomi_balanced_story_types/fb_all_test.trace\", \"r\") as f:\n",
    "    trace = f.read().split(\"\\n\")"
   ]
  },
  {
   "cell_type": "code",
   "execution_count": 39,
   "id": "925c24ba",
   "metadata": {},
   "outputs": [],
   "source": [
    "regex = r\"(?=.*agent_1_exits)(?=.*agent_0_moves_obj)(?=.*true_belief).*agent_1_exits(?:(?!agent_1_reenters_loc).)*agent_0_moves_obj.*second_order_\\d+_no_tom.*true_belief\""
   ]
  },
  {
   "cell_type": "code",
   "execution_count": 54,
   "id": "1051d3ea",
   "metadata": {},
   "outputs": [
    {
     "data": {
      "text/plain": [
       "5994"
      ]
     },
     "execution_count": 54,
     "metadata": {},
     "output_type": "execute_result"
    }
   ],
   "source": [
    "len(trace) - 1"
   ]
  },
  {
   "cell_type": "code",
   "execution_count": 51,
   "id": "2d12fef0",
   "metadata": {},
   "outputs": [
    {
     "data": {
      "text/plain": [
       "(32, 32)"
      ]
     },
     "execution_count": 51,
     "metadata": {},
     "output_type": "execute_result"
    }
   ],
   "source": [
    "matches = 0\n",
    "errors = 0\n",
    "\n",
    "for i in range(len(trace)):\n",
    "    if re.search(regex, trace[i]):\n",
    "        # print(f\"Match found in trace[{i}]: {trace[i]}\")\n",
    "        # print(f\"Corresponding data: {data[i]}\")\n",
    "        matches += 1\n",
    "        answer = data[i].split(\"\\t\")[1]\n",
    "        wrong_answer = data[i].split(\"to the \")[1].split(\".\")[0]\n",
    "\n",
    "        if answer == wrong_answer:\n",
    "            errors += 1\n",
    "\n",
    "matches, errors"
   ]
  },
  {
   "cell_type": "code",
   "execution_count": 30,
   "id": "952af7fd",
   "metadata": {},
   "outputs": [
    {
     "name": "stdout",
     "output_type": "stream",
     "text": [
      "enter_agent_0,enter_agent_1,agent_2_enters,agent_1_exits,agent_1_reenters_alt_loc,agent_2_exits,agent_0_moves_obj,second_order_1_no_tom,true_belief\n",
      "1 Ethan entered the garden.\n",
      "2 Hannah entered the garden.\n",
      "3 Aria entered the garden.\n",
      "4 The onion is in the green_container.\n",
      "5 Hannah exited the garden.\n",
      "6 Aria exited the garden.\n",
      "7 Hannah entered the TV_room.\n",
      "8 Ethan moved the onion to the green_crate.\n",
      "9 Ethan dislikes the corn\n",
      "10 Where does Hannah think that Ethan searches for the onion?\tgreen_crate\t\n"
     ]
    }
   ],
   "source": [
    "i = 701\n",
    "\n",
    "print(trace[i])\n",
    "print(data[i])"
   ]
  },
  {
   "cell_type": "code",
   "execution_count": 3,
   "id": "883f3a9d",
   "metadata": {},
   "outputs": [
    {
     "name": "stdout",
     "output_type": "stream",
     "text": [
      "enter_agent_1,enter_agent_0,agent_1_exits,agent_1_reenters_alt_loc,agent_0_moves_obj,second_order_0_tom,true_belief\n",
      "1 Mia entered the bathroom.\n",
      "2 Oliver entered the bathroom.\n",
      "3 Mia dislikes the sunroom\n",
      "4 The grapes is in the blue_pantry.\n",
      "5 Mia exited the bathroom.\n",
      "6 Mia entered the hall.\n",
      "7 Oliver moved the grapes to the green_bucket.\n",
      "8 Where does Oliver think that Mia searches for the grapes?\tblue_pantry\t\n"
     ]
    }
   ],
   "source": [
    "i = 566\n",
    "\n",
    "print(trace[i])\n",
    "print(data[i])"
   ]
  }
 ],
 "metadata": {
  "kernelspec": {
   "display_name": "base",
   "language": "python",
   "name": "python3"
  },
  "language_info": {
   "codemirror_mode": {
    "name": "ipython",
    "version": 3
   },
   "file_extension": ".py",
   "mimetype": "text/x-python",
   "name": "python",
   "nbconvert_exporter": "python",
   "pygments_lexer": "ipython3",
   "version": "3.12.7"
  }
 },
 "nbformat": 4,
 "nbformat_minor": 5
}
